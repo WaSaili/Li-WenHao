{
 "cells": [
  {
   "cell_type": "code",
   "execution_count": 9,
   "metadata": {},
   "outputs": [],
   "source": [
    "from sklearn import svm\n",
    "import numpy as np\n",
    "import matplotlib.pyplot as plt\n",
    "import matplotlib\n",
    "import sklearn\n",
    "from sklearn.model_selection import train_test_split\n",
    "\n"
   ]
  },
  {
   "cell_type": "markdown",
   "metadata": {},
   "source": [
    "1.读取数据集"
   ]
  },
  {
   "cell_type": "code",
   "execution_count": 10,
   "metadata": {},
   "outputs": [],
   "source": [
    "def Iris_label(s):\n",
    "    it={b'Iris-setosa':0, b'Iris-versicolor':1, b'Iris-virginica':2 }#Iris数据集共有三种类别的样本\n",
    "    return it[s]"
   ]
  },
  {
   "cell_type": "code",
   "execution_count": 11,
   "metadata": {},
   "outputs": [],
   "source": [
    "path='/Users/liwen/Downloads/iris.data'#Iris数据集是sklearn库中的一个数据集，主要用于多分类任务\n",
    "data=np.loadtxt(path, dtype=float, delimiter=',', converters={4:Iris_label} )\n",
    "#converters={4:Iris_label}中“4”指的是第5列：将第5列的str转化为label(number)"
   ]
  },
  {
   "cell_type": "markdown",
   "metadata": {},
   "source": [
    "2.划分训练样本与测试样本"
   ]
  },
  {
   "cell_type": "code",
   "execution_count": 12,
   "metadata": {},
   "outputs": [],
   "source": [
    "x,y=np.split(data,indices_or_sections=(4,),axis=1) #x为数据，y为标签\n",
    "x=x[:,0:2] #为便于后边画图显示，只选取前两维度。若不用画图，可选取前四列x[:,0:4]\n",
    "train_data,test_data,train_label,test_label =sklearn.model_selection.train_test_split(x,y, random_state=1, train_size=0.75,test_size=0.25)\n",
    "#训练集和测试集各自所占的比例大小对模型最终的测试结果有着重要的影响；\n",
    "#因此，在实验报告中我设计了几组不同数据集划分比例的实验，得出每个实验的测试结果，选择结果趋于稳定的一组。"
   ]
  },
  {
   "cell_type": "markdown",
   "metadata": {},
   "source": [
    "3.SVM模型的构建和训练"
   ]
  },
  {
   "cell_type": "code",
   "execution_count": 14,
   "metadata": {},
   "outputs": [
    {
     "data": {
      "text/plain": [
       "SVC(C=5, gamma=10)"
      ]
     },
     "execution_count": 14,
     "metadata": {},
     "output_type": "execute_result"
    }
   ],
   "source": [
    "classifier=svm.SVC(C=5,kernel='rbf',gamma=10,decision_function_shape='ovr') \n",
    "# SVC是支持向量机中做二分类的，我选择核函数是rbf高斯核函数，拆分策略是ovr一对其余策略\n",
    "# 在svm.SVC（）函数中有两个可变参数C和gamma，C的值越大分类效果越明显，但太大会造成过拟合；\n",
    "# gamma则对应的是高斯核函数的sigma参数，对SVM模型的泛化性能也有着非常重要的影响；\n",
    "# 因此，在实验报告中我设计了几组gamma不同取值的实验，得出每个实验的测试结果，选择最合适的gamma取值。\n",
    "classifier.fit(train_data,train_label.ravel()) \n",
    "#classfier.fit()用于根据给定的训练数据进行拟合SVM分类器\n",
    "# ravel函数在降维时默认是行序优先\n"
   ]
  },
  {
   "cell_type": "markdown",
   "metadata": {},
   "source": [
    "4.计算分类准确率和查看模型决策函数"
   ]
  },
  {
   "cell_type": "code",
   "execution_count": 15,
   "metadata": {},
   "outputs": [
    {
     "name": "stdout",
     "output_type": "stream",
     "text": [
      "训练集： 0.8928571428571429\n",
      "测试集： 0.7631578947368421\n"
     ]
    }
   ],
   "source": [
    "print(\"训练集：\",classifier.score(train_data,train_label))\n",
    "print(\"测试集：\",classifier.score(test_data,test_label))"
   ]
  },
  {
   "cell_type": "code",
   "execution_count": 16,
   "metadata": {},
   "outputs": [
    {
     "name": "stdout",
     "output_type": "stream",
     "text": [
      "train_decision_function: [[-0.22198337  1.14951817  2.18043857]\n",
      " [-0.1985337   0.88493616  2.22222112]\n",
      " [-0.22739314  1.14362165  2.19382696]\n",
      " [ 2.22408975 -0.17649873  0.83974555]\n",
      " [-0.22220916  1.16162401  2.17139385]\n",
      " [-0.22211119  0.99225835  2.22298665]\n",
      " [-0.22405575  2.19215953  1.13599894]\n",
      " [-0.17208716  0.83910782  2.22223182]\n",
      " [ 2.22219964  0.83822282 -0.17123714]\n",
      " [ 2.22224107 -0.17495209  0.84248626]\n",
      " [ 2.22262492 -0.1845593   0.85495035]\n",
      " [-0.19003485  2.22222444  0.86580089]\n",
      " [ 2.22345691 -0.17461883  0.83906524]\n",
      " [ 2.22222442  0.8609083  -0.1873895 ]\n",
      " [-0.17203177  0.8391101   2.22220458]\n",
      " [-0.22650172  1.14505454  2.19147432]\n",
      " [-0.18556511  0.81635916  2.23761864]\n",
      " [-0.22254329  1.01692143  2.22053838]\n",
      " [-0.22387524  1.13966255  2.18991305]\n",
      " [-0.20759887  2.22223953  0.91369412]\n",
      " [-0.17513583  0.83926172  2.22362552]\n",
      " [-0.21806794  2.23236624  0.90315237]\n",
      " [ 2.22352895 -0.17590714  0.84043099]\n",
      " [-0.22092568  1.15087763  2.17745863]\n",
      " [-0.22208065  0.98212992  2.22414501]\n",
      " [ 2.22262492 -0.1845593   0.85495035]\n",
      " [ 2.22420441 -0.1774981   0.84068747]\n",
      " [-0.22023814  0.9834238   2.22221113]\n",
      " [ 2.2222347  -0.17504098  0.84261192]\n",
      " [-0.22054507  1.10165322  2.2008808 ]\n",
      " [-0.20699257  0.82094645  2.24558966]\n",
      " [-0.22472261  0.99989418  2.22473384]\n",
      " [-0.2291969   2.22556356  1.03246816]\n",
      " [-0.20645478  0.90950745  2.22221577]\n",
      " [-0.22191672  2.16605657  1.16658901]\n",
      " [ 2.22220918 -0.17498196  0.84260301]\n",
      " [-0.22220916  1.16162401  2.17139385]\n",
      " [-0.22205198  0.99797763  2.2222783 ]\n",
      " [-0.22023814  0.9834238   2.22221113]\n",
      " [-0.21824186  2.24283449  0.8531947 ]\n",
      " [-0.20766     0.81344076  2.24837394]\n",
      " [-0.21526799  2.22591762  0.92710101]\n",
      " [ 2.22401311 -0.17567156  0.83893948]\n",
      " [ 2.23295465 -0.18563509  0.82817285]\n",
      " [ 2.22223682 -0.17503832  0.84260332]\n",
      " [-0.20645478  0.90950745  2.22221577]\n",
      " [ 2.22837628 -0.18255206  0.83628518]\n",
      " [-0.22365812  2.22221653  1.01264488]\n",
      " [-0.22028864  0.98366393  2.22223037]\n",
      " [-0.22272804  2.2023771   1.10631958]\n",
      " [ 2.22677463 -0.17886758  0.83585503]\n",
      " [ 2.22297575 -0.17145438  0.83661917]\n",
      " [-0.22658968  2.22222825  1.03639917]\n",
      " [ 2.23295465 -0.18563509  0.82817285]\n",
      " [-0.1756677   0.82050847  2.2317354 ]\n",
      " [-0.22239074  1.11667451  2.19816384]\n",
      " [-0.17316303  0.84037537  2.22222369]\n",
      " [-0.22653882  1.14200507  2.19322154]\n",
      " [-0.20871645  2.23274695  0.87003822]\n",
      " [-0.21252239  0.93541838  2.22220126]\n",
      " [-0.1796675   0.84868859  2.22224038]\n",
      " [-0.2216467   2.22629298  0.96176957]\n",
      " [ 2.22222029 -0.17503416  0.84263963]\n",
      " [-0.22658968  2.22222825  1.03639917]\n",
      " [ 2.22223795  0.84689352 -0.17835973]\n",
      " [-0.20521257  2.22220671  0.90512487]\n",
      " [-0.22650172  1.14505454  2.19147432]\n",
      " [ 2.22219863 -0.17411957  0.84157668]\n",
      " [-0.21765968  2.22225075  0.96452498]\n",
      " [ 2.22240381 -0.17476073  0.84184485]\n",
      " [ 2.22352895 -0.17590714  0.84043099]\n",
      " [-0.20171172  0.83561083  2.23824604]\n",
      " [-0.22655972  2.21909841  1.05645687]\n",
      " [-0.22244069  1.07663043  2.21021363]\n",
      " [ 2.22452379 -0.17575177  0.83776917]\n",
      " [ 2.2227585  -0.17570864  0.84212172]\n",
      " [-0.21053435  2.2222417   0.92585569]\n",
      " [ 2.2242535  -0.17884876  0.84227596]\n",
      " [-0.22658968  2.22222825  1.03639917]\n",
      " [ 2.22919086 -0.18429624  0.83637418]\n",
      " [-0.22023814  0.9834238   2.22221113]\n",
      " [-0.21928453  1.15162081  2.17371585]\n",
      " [ 2.22222517 -0.17568372  0.84343699]\n",
      " [-0.20611193  0.8036906   2.25108504]\n",
      " [ 2.22224007 -0.17558664  0.84327743]\n",
      " [-0.20694279  2.23008781  0.8761493 ]\n",
      " [ 2.22223932 -0.17853677  0.84712995]\n",
      " [-0.20521257  2.22220671  0.90512487]\n",
      " [-0.18270511  2.22220863  0.85323255]\n",
      " [ 2.22408975 -0.17649873  0.83974555]\n",
      " [ 2.22626989 -0.18178918  0.84083659]\n",
      " [-0.21826887  2.21286255  1.03834917]\n",
      " [ 2.22222637 -0.17505044  0.84264449]\n",
      " [-0.22272804  2.2023771   1.10631958]\n",
      " [-0.2228951   2.18553153  1.14426231]\n",
      " [ 2.22219863 -0.17411957  0.84157668]\n",
      " [-0.22472261  0.99989418  2.22473384]\n",
      " [-0.22696459  2.23010341  0.97100135]\n",
      " [-0.21225494  2.2224199   0.93284155]\n",
      " [-0.21892952  2.20700391  1.07190603]\n",
      " [-0.22658968  2.22222825  1.03639917]\n",
      " [ 2.22220166  0.85257961 -0.1822639 ]\n",
      " [ 2.22220909  0.83928547 -0.1721944 ]\n",
      " [-0.22285321  1.16664625  2.16810244]\n",
      " [-0.22401301  2.20730611  1.0959523 ]\n",
      " [-0.20018472  0.88936198  2.22223266]\n",
      " [-0.22504744  2.18975024  1.14358738]\n",
      " [-0.22338991  1.00637477  2.22267832]\n",
      " [-0.21252722  0.82641126  2.2466611 ]\n",
      " [-0.21704261  2.17775749  1.13996228]\n",
      " [-0.22472261  0.99989418  2.22473384]\n",
      " [ 2.23295465 -0.18563509  0.82817285]]\n",
      "predict_result: [2. 2. 2. 0. 2. 2. 1. 2. 0. 0. 0. 1. 0. 0. 2. 2. 2. 2. 2. 1. 2. 1. 0. 2.\n",
      " 2. 0. 0. 2. 0. 2. 2. 2. 1. 2. 1. 0. 2. 2. 2. 1. 2. 1. 0. 0. 0. 2. 0. 1.\n",
      " 2. 1. 0. 0. 1. 0. 2. 2. 2. 2. 1. 2. 2. 1. 0. 1. 0. 1. 2. 0. 1. 0. 0. 2.\n",
      " 1. 2. 0. 0. 1. 0. 1. 0. 2. 2. 0. 2. 0. 1. 0. 1. 1. 0. 0. 1. 0. 1. 1. 0.\n",
      " 2. 1. 1. 1. 1. 0. 0. 2. 1. 2. 1. 2. 2. 1. 2. 0.]\n"
     ]
    }
   ],
   "source": [
    "print('train_decision_function:',classifier.decision_function(train_data))#返回的是样本到各类超平面的距离\n",
    "print('predict_result:',classifier.predict(train_data))#选择间隔最大的类别"
   ]
  },
  {
   "cell_type": "markdown",
   "metadata": {},
   "source": [
    "5.绘制图像"
   ]
  },
  {
   "cell_type": "code",
   "execution_count": 17,
   "metadata": {},
   "outputs": [],
   "source": [
    "#确定坐标轴范围\n",
    "x1_min, x1_max=x[:,0].min(), x[:,0].max() #第0维特征的范围\n",
    "x2_min, x2_max=x[:,1].min(), x[:,1].max() #第1维特征的范围\n",
    "x1,x2=np.mgrid[x1_min:x1_max:200j, x2_min:x2_max:200j ] #生成网络采样点\n",
    "grid_test=np.stack((x1.flat,x2.flat) ,axis=1) #测试点\n",
    "#指定默认字体\n",
    "matplotlib.rcParams['font.sans-serif']=['SimHei']\n",
    "#设置颜色\n",
    "cm_light=matplotlib.colors.ListedColormap(['#A0FFA0', '#FFA0A0', '#A0A0FF'])\n",
    "cm_dark=matplotlib.colors.ListedColormap(['g','r','b'] )\n",
    " \n",
    "grid_hat = classifier.predict(grid_test)       # 预测分类值\n",
    "grid_hat = grid_hat.reshape(x1.shape)  # 使之与输入的形状相同"
   ]
  },
  {
   "cell_type": "code",
   "execution_count": 22,
   "metadata": {},
   "outputs": [
    {
     "name": "stderr",
     "output_type": "stream",
     "text": [
      "/var/folders/w2/01j170354d543dd8zrk0rwhc0000gn/T/ipykernel_6190/4178683968.py:1: MatplotlibDeprecationWarning: shading='flat' when X and Y have the same dimensions as C is deprecated since 3.3.  Either specify the corners of the quadrilaterals with X and Y, or pass shading='auto', 'nearest' or 'gouraud', or set rcParams['pcolor.shading'].  This will become an error two minor releases later.\n",
      "  plt.pcolormesh(x1, x2, grid_hat, cmap=cm_light)     # 预测值的显示\n"
     ]
    },
    {
     "data": {
      "image/png": "[encoded data removed]",
      "text/plain": [
       "<Figure size 432x288 with 1 Axes>"
      ]
     },
     "metadata": {
      "needs_background": "light"
     },
     "output_type": "display_data"
    }
   ],
   "source": [
    "plt.pcolormesh(x1, x2, grid_hat, cmap=cm_light)     # 预测值的显示\n",
    "plt.scatter(x[:, 0], x[:, 1], c=y[:,0], s=30,cmap=cm_dark)  # 样本\n",
    "plt.scatter(test_data[:,0],test_data[:,1], c=test_label[:,0],s=30,edgecolors='k', zorder=2,cmap=cm_dark) #圈中测试集样本点\n",
    "plt.xlabel('Calyx Length', fontsize=13)\n",
    "plt.ylabel('Calyx width', fontsize=13)\n",
    "plt.title(\"Iris SVM two feature classification\")\n",
    "plt.show()\n",
    "\n"
   ]
  }
 ],
 "metadata": {
  "interpreter": {
   "hash": "aee8b7b246df8f9039afb4144a1f6fd8d2ca17a180786b69acc140d282b71a49"
  },
  "kernelspec": {
   "display_name": "Python 3.9.2 64-bit",
   "language": "python",
   "name": "python3"
  },
  "language_info": {
   "codemirror_mode": {
    "name": "ipython",
    "version": 3
   },
   "file_extension": ".py",
   "mimetype": "text/x-python",
   "name": "python",
   "nbconvert_exporter": "python",
   "pygments_lexer": "ipython3",
   "version": "3.9.2"
  },
  "orig_nbformat": 4
 },
 "nbformat": 4,
 "nbformat_minor": 2
}
